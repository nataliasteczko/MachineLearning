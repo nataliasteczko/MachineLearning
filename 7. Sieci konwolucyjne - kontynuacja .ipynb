{
 "cells": [
  {
   "cell_type": "markdown",
   "id": "2460fb95",
   "metadata": {},
   "source": [
    "Zadanie1: Zastanów się dlaczego funkcja kosztu MSE może nie być najlepszym pomysłem dla tego problemu?"
   ]
  },
  {
   "cell_type": "markdown",
   "id": "983dba76",
   "metadata": {},
   "source": [
    "W przypadku funkcji kosztu MSE większe błędy są równoznaczne z wyższymi karami. Błąd o 10 jednostek to kara równa 100 (bo R do kwadratu). Dalej, jeśli dwie predykcje będą błędne to kara rośnie sumarycznie (jest to suma dwóch kwadratów jednostek błędu). Jest to po prostu za duży błąd i nie da nam jasnych wyników.\n",
    "\n",
    "Jeśli nie MSE to na przykład:  średni błąd bezwzględny (ang. mean absolute error, MAE) lub medianowy błąd bezwzględny (ang. median absolute error)."
   ]
  },
  {
   "cell_type": "markdown",
   "id": "875cd8b9",
   "metadata": {},
   "source": [
    "Zadanie2: Jaka jest różnica między funkcją ReLU i LeakyReLU. Jakie to ma konsekwencje?"
   ]
  },
  {
   "cell_type": "markdown",
   "id": "bb33e700",
   "metadata": {},
   "source": [
    "Różnica między ReLU a LeakyReLU polega na tym, że ten drugi zatrzymuje w pewnym stopniu wartości ujemne, które do niego wpływają, podczas gdy ten pierwszy po prostu ustawia wszystkie wartości mniejsze od 0 na 0. Teoretycznie ten rozszerzony zakres wyjściowy oferuje nieco większą elastyczność modelowi, który go używa. </p>\n",
    "W praktyce jednak częściej korzysta się z ReLU, ponieważ zalety LeakyReLU nie są spójne, a ReLU jest tańsze w obliczeniach, dlatego modele trenują nieco szybciej."
   ]
  },
  {
   "cell_type": "markdown",
   "id": "88efcb19",
   "metadata": {},
   "source": [
    "Zadanie3: Jak zachowuje się funkcja kosztu w kolejnych epokach? Z czego to może wynikać? Czy to ułatwia czy utrudnia dostosowyanie hiperparametrów?"
   ]
  },
  {
   "cell_type": "markdown",
   "id": "87cbd397",
   "metadata": {},
   "source": [
    "W powyższym przykładzie, z każdą kolejną epoką, zmienia się wartość funkcji modelu dyskryminatywnego i generatywnego. </p>\n",
    "Funkcja generatywna generuje kandydatów, a dyskryminacyjna dokonuje ich oceny. W modelu dyskryminatywnym funkcja próbuje oszacować prawdopodobieństwo, że obserwacja x należy do kategorii y. W modelowaniu generatywnym nie jest wykonywane znakowanie obserwacji. Zamiast tego model generatywny próbuje oszacować prawdopodobieństwo tego, że obserwacja w ogóle się pojawi. </p>\n",
    "Model generatywny jest używany do trenowania nowych przykładów. Wysoka wartość g_loss wskazuje, że w kolejnych epokach udaje się generować nowe przykłady, a wartość d_loss szacuje czy są prawdziwe czy też nie. </p>\n",
    "Utrudnia to dostosowanie hiperparametrów i nie można ich wywnioskować, ponieważ nie mają wpływu na działanie modelu samego w sobie, tylko na szybkość i jakość procesu uczenia się."
   ]
  },
  {
   "cell_type": "markdown",
   "id": "768d5506",
   "metadata": {},
   "source": [
    "Zadanie4: Generator może realizować swój cel ucząć się bardzo dobrze generować tylko pewien podzbiór danych (np jedną cyfrę). Zjawisko to nosi nazwę mode collapse. Poszukaj jak można rozwiązać ten problem."
   ]
  },
  {
   "cell_type": "markdown",
   "id": "c4d53f12",
   "metadata": {},
   "source": [
    "Aby rozwiązać ten problem należy opracować mechanizm, dzięki któremu generator będzie mógł rozpoznawać różne możliwe klastry/tryby danych w tym samym czasie, bez ciągłego próbowania oszukania dyskryminatora. W tym celu celowo wskakujemy do ukrytej przestrzeni o rozszerzonych wymiarach w porównaniu z wymiarami ukrytej przestrzeni dla standardowego wzorca danego zestawu danych. Następnie wymyślamy sposób na podzielenie danej przestrzeni na mniejsze podprzestrzenie, które następnie zostaną użyte do wytrenowania GAN jako zwykłej procedury metody generatora."
   ]
  }
 ],
 "metadata": {
  "kernelspec": {
   "display_name": "Python 3 (ipykernel)",
   "language": "python",
   "name": "python3"
  },
  "language_info": {
   "codemirror_mode": {
    "name": "ipython",
    "version": 3
   },
   "file_extension": ".py",
   "mimetype": "text/x-python",
   "name": "python",
   "nbconvert_exporter": "python",
   "pygments_lexer": "ipython3",
   "version": "3.7.10"
  }
 },
 "nbformat": 4,
 "nbformat_minor": 5
}
