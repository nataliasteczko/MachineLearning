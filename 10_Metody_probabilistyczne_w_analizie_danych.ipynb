{
  "nbformat": 4,
  "nbformat_minor": 0,
  "metadata": {
    "colab": {
      "provenance": []
    },
    "kernelspec": {
      "name": "python3",
      "display_name": "Python 3"
    },
    "language_info": {
      "name": "python"
    }
  },
  "cells": [
    {
      "cell_type": "markdown",
      "source": [
        "Zadanie 1: </p>\n",
        "Oblicz P(B=T, E=T, A=T, J=T, M=F)"
      ],
      "metadata": {
        "id": "Sxb6C991yHz3"
      }
    },
    {
      "cell_type": "code",
      "execution_count": 1,
      "metadata": {
        "colab": {
          "base_uri": "https://localhost:8080/"
        },
        "id": "CWKM94PTyDbD",
        "outputId": "eb12d8c0-fd16-421f-b6b4-56af20ee4616"
      },
      "outputs": [
        {
          "output_type": "execute_result",
          "data": {
            "text/plain": [
              "5.13e-07"
            ]
          },
          "metadata": {},
          "execution_count": 1
        }
      ],
      "source": [
        "P = 0.001*0.002*0.95*0.9*0.3\n",
        "P"
      ]
    },
    {
      "cell_type": "markdown",
      "source": [
        "Zadanie 2: (oszędność parametrów): </p>\n",
        "Ile potrzeba parametrów aby opisać rozkład łączny 5 zmiennych binarnych?\n",
        "Ile parametrów ma powyższa sieć?"
      ],
      "metadata": {
        "id": "Z-VXgwUjy-bN"
      }
    },
    {
      "cell_type": "markdown",
      "source": [
        "Aby opisać 5 zmiennych potrzebujemy 32 parametrów (2^5). Powyższa sieć ma 10 parametrów (z początkowych 20)."
      ],
      "metadata": {
        "id": "RkOIdCdQzCDd"
      }
    },
    {
      "cell_type": "markdown",
      "source": [
        "Zadanie 3: Wykonaj analogiczne zadanie dla 10 zmiennych binarnych i następującej topologii sieci:"
      ],
      "metadata": {
        "id": "j0Gagrmw4_8C"
      }
    },
    {
      "cell_type": "markdown",
      "source": [
        "Z 10 zmiennych binarnych otrzymujemy 1024 parmetry (2^10), a sieć ma 21 parametrów."
      ],
      "metadata": {
        "id": "7uQT14f06eye"
      }
    },
    {
      "cell_type": "markdown",
      "source": [
        "Zadanie 4: </p>\n",
        "Wyjaśnij wartość 0.75 w powyższej tabeli (poprzez bezpośrednie wyliczenie i objaśnienie)."
      ],
      "metadata": {
        "id": "1MjPKl7R6rHN"
      }
    },
    {
      "cell_type": "markdown",
      "source": [
        "Mamy 6 dużych bananów, z których 5 jest smacznych (P = 5/6 = 0.83). Kiedy dodamy do każdej obserwacji po jednym pseudozliczeniu (do 1 niesmacznego i 5 smacznych), wtedy otrzymamy P = 6/8 = 0.75"
      ],
      "metadata": {
        "id": "D79bCqAoLupV"
      }
    },
    {
      "cell_type": "markdown",
      "source": [
        "Zadanie 5: </p>\n",
        "Wygeneruj dane zawierające 10 tys wierszy i 3 kolumny. Pierwsze dwie kolumny (A, B) niech zawierają losowe liczby całkowite z zakresu . Trzecia kolumna (C) to kombinacja liniowa dwóch pierwszych kolumn . Zbuduj dwie topologie sieci, tzn.  oraz . Oceń która z sieci wydaje sie lepiej odzwierciedlać strukturę danych. Wyjaśnij dlaczego."
      ],
      "metadata": {
        "id": "N21aWJgBL26a"
      }
    },
    {
      "cell_type": "code",
      "source": [
        "!pip install pgmpy"
      ],
      "metadata": {
        "colab": {
          "base_uri": "https://localhost:8080/"
        },
        "id": "hfLGu1t8MKTY",
        "outputId": "98d4110c-0767-42a1-9cd1-0c67c5b2802d"
      },
      "execution_count": 1,
      "outputs": [
        {
          "output_type": "stream",
          "name": "stdout",
          "text": [
            "Looking in indexes: https://pypi.org/simple, https://us-python.pkg.dev/colab-wheels/public/simple/\n",
            "Collecting pgmpy\n",
            "  Downloading pgmpy-0.1.20-py3-none-any.whl (1.9 MB)\n",
            "\u001b[K     |████████████████████████████████| 1.9 MB 5.3 MB/s \n",
            "\u001b[?25hRequirement already satisfied: joblib in /usr/local/lib/python3.8/dist-packages (from pgmpy) (1.2.0)\n",
            "Requirement already satisfied: scipy in /usr/local/lib/python3.8/dist-packages (from pgmpy) (1.7.3)\n",
            "Requirement already satisfied: pandas in /usr/local/lib/python3.8/dist-packages (from pgmpy) (1.3.5)\n",
            "Requirement already satisfied: networkx in /usr/local/lib/python3.8/dist-packages (from pgmpy) (2.8.8)\n",
            "Requirement already satisfied: statsmodels in /usr/local/lib/python3.8/dist-packages (from pgmpy) (0.12.2)\n",
            "Requirement already satisfied: tqdm in /usr/local/lib/python3.8/dist-packages (from pgmpy) (4.64.1)\n",
            "Requirement already satisfied: opt-einsum in /usr/local/lib/python3.8/dist-packages (from pgmpy) (3.3.0)\n",
            "Requirement already satisfied: pyparsing in /usr/local/lib/python3.8/dist-packages (from pgmpy) (3.0.9)\n",
            "Requirement already satisfied: numpy in /usr/local/lib/python3.8/dist-packages (from pgmpy) (1.21.6)\n",
            "Requirement already satisfied: torch in /usr/local/lib/python3.8/dist-packages (from pgmpy) (1.13.0+cu116)\n",
            "Requirement already satisfied: scikit-learn in /usr/local/lib/python3.8/dist-packages (from pgmpy) (1.0.2)\n",
            "Requirement already satisfied: pytz>=2017.3 in /usr/local/lib/python3.8/dist-packages (from pandas->pgmpy) (2022.6)\n",
            "Requirement already satisfied: python-dateutil>=2.7.3 in /usr/local/lib/python3.8/dist-packages (from pandas->pgmpy) (2.8.2)\n",
            "Requirement already satisfied: six>=1.5 in /usr/local/lib/python3.8/dist-packages (from python-dateutil>=2.7.3->pandas->pgmpy) (1.15.0)\n",
            "Requirement already satisfied: threadpoolctl>=2.0.0 in /usr/local/lib/python3.8/dist-packages (from scikit-learn->pgmpy) (3.1.0)\n",
            "Requirement already satisfied: patsy>=0.5 in /usr/local/lib/python3.8/dist-packages (from statsmodels->pgmpy) (0.5.3)\n",
            "Requirement already satisfied: typing-extensions in /usr/local/lib/python3.8/dist-packages (from torch->pgmpy) (4.4.0)\n",
            "Installing collected packages: pgmpy\n",
            "Successfully installed pgmpy-0.1.20\n"
          ]
        }
      ]
    },
    {
      "cell_type": "code",
      "source": [
        "import pandas as pd\n",
        "import torch\n",
        "import numpy as np\n",
        "from pgmpy.models import BayesianNetwork\n",
        "from pgmpy.estimators import BayesianEstimator\n",
        "from pgmpy.estimators import ExhaustiveSearch\n",
        "from pgmpy.estimators import BDeuScore, K2Score, BicScore"
      ],
      "metadata": {
        "id": "_E5zRSFrMKuo"
      },
      "execution_count": 4,
      "outputs": []
    },
    {
      "cell_type": "code",
      "source": [
        "data = pd.DataFrame(np.random.randint(-2, 2, size=(10000, 2)), columns=list('AB'))\n",
        "data['C'] = 2*data['A'] - 3*data['B']\n",
        "data.head()"
      ],
      "metadata": {
        "colab": {
          "base_uri": "https://localhost:8080/",
          "height": 206
        },
        "id": "Z8H3n1_HNPKs",
        "outputId": "3f2fa82b-87dc-400f-87d4-b0c9a1c2cb1f"
      },
      "execution_count": 7,
      "outputs": [
        {
          "output_type": "execute_result",
          "data": {
            "text/plain": [
              "   A  B  C\n",
              "0 -1 -1  1\n",
              "1 -1  1 -5\n",
              "2  0  0  0\n",
              "3  0  1 -3\n",
              "4  0 -2  6"
            ],
            "text/html": [
              "\n",
              "  <div id=\"df-92b65fa7-7c6f-458c-bb84-9e8ce4e3beec\">\n",
              "    <div class=\"colab-df-container\">\n",
              "      <div>\n",
              "<style scoped>\n",
              "    .dataframe tbody tr th:only-of-type {\n",
              "        vertical-align: middle;\n",
              "    }\n",
              "\n",
              "    .dataframe tbody tr th {\n",
              "        vertical-align: top;\n",
              "    }\n",
              "\n",
              "    .dataframe thead th {\n",
              "        text-align: right;\n",
              "    }\n",
              "</style>\n",
              "<table border=\"1\" class=\"dataframe\">\n",
              "  <thead>\n",
              "    <tr style=\"text-align: right;\">\n",
              "      <th></th>\n",
              "      <th>A</th>\n",
              "      <th>B</th>\n",
              "      <th>C</th>\n",
              "    </tr>\n",
              "  </thead>\n",
              "  <tbody>\n",
              "    <tr>\n",
              "      <th>0</th>\n",
              "      <td>-1</td>\n",
              "      <td>-1</td>\n",
              "      <td>1</td>\n",
              "    </tr>\n",
              "    <tr>\n",
              "      <th>1</th>\n",
              "      <td>-1</td>\n",
              "      <td>1</td>\n",
              "      <td>-5</td>\n",
              "    </tr>\n",
              "    <tr>\n",
              "      <th>2</th>\n",
              "      <td>0</td>\n",
              "      <td>0</td>\n",
              "      <td>0</td>\n",
              "    </tr>\n",
              "    <tr>\n",
              "      <th>3</th>\n",
              "      <td>0</td>\n",
              "      <td>1</td>\n",
              "      <td>-3</td>\n",
              "    </tr>\n",
              "    <tr>\n",
              "      <th>4</th>\n",
              "      <td>0</td>\n",
              "      <td>-2</td>\n",
              "      <td>6</td>\n",
              "    </tr>\n",
              "  </tbody>\n",
              "</table>\n",
              "</div>\n",
              "      <button class=\"colab-df-convert\" onclick=\"convertToInteractive('df-92b65fa7-7c6f-458c-bb84-9e8ce4e3beec')\"\n",
              "              title=\"Convert this dataframe to an interactive table.\"\n",
              "              style=\"display:none;\">\n",
              "        \n",
              "  <svg xmlns=\"http://www.w3.org/2000/svg\" height=\"24px\"viewBox=\"0 0 24 24\"\n",
              "       width=\"24px\">\n",
              "    <path d=\"M0 0h24v24H0V0z\" fill=\"none\"/>\n",
              "    <path d=\"M18.56 5.44l.94 2.06.94-2.06 2.06-.94-2.06-.94-.94-2.06-.94 2.06-2.06.94zm-11 1L8.5 8.5l.94-2.06 2.06-.94-2.06-.94L8.5 2.5l-.94 2.06-2.06.94zm10 10l.94 2.06.94-2.06 2.06-.94-2.06-.94-.94-2.06-.94 2.06-2.06.94z\"/><path d=\"M17.41 7.96l-1.37-1.37c-.4-.4-.92-.59-1.43-.59-.52 0-1.04.2-1.43.59L10.3 9.45l-7.72 7.72c-.78.78-.78 2.05 0 2.83L4 21.41c.39.39.9.59 1.41.59.51 0 1.02-.2 1.41-.59l7.78-7.78 2.81-2.81c.8-.78.8-2.07 0-2.86zM5.41 20L4 18.59l7.72-7.72 1.47 1.35L5.41 20z\"/>\n",
              "  </svg>\n",
              "      </button>\n",
              "      \n",
              "  <style>\n",
              "    .colab-df-container {\n",
              "      display:flex;\n",
              "      flex-wrap:wrap;\n",
              "      gap: 12px;\n",
              "    }\n",
              "\n",
              "    .colab-df-convert {\n",
              "      background-color: #E8F0FE;\n",
              "      border: none;\n",
              "      border-radius: 50%;\n",
              "      cursor: pointer;\n",
              "      display: none;\n",
              "      fill: #1967D2;\n",
              "      height: 32px;\n",
              "      padding: 0 0 0 0;\n",
              "      width: 32px;\n",
              "    }\n",
              "\n",
              "    .colab-df-convert:hover {\n",
              "      background-color: #E2EBFA;\n",
              "      box-shadow: 0px 1px 2px rgba(60, 64, 67, 0.3), 0px 1px 3px 1px rgba(60, 64, 67, 0.15);\n",
              "      fill: #174EA6;\n",
              "    }\n",
              "\n",
              "    [theme=dark] .colab-df-convert {\n",
              "      background-color: #3B4455;\n",
              "      fill: #D2E3FC;\n",
              "    }\n",
              "\n",
              "    [theme=dark] .colab-df-convert:hover {\n",
              "      background-color: #434B5C;\n",
              "      box-shadow: 0px 1px 3px 1px rgba(0, 0, 0, 0.15);\n",
              "      filter: drop-shadow(0px 1px 2px rgba(0, 0, 0, 0.3));\n",
              "      fill: #FFFFFF;\n",
              "    }\n",
              "  </style>\n",
              "\n",
              "      <script>\n",
              "        const buttonEl =\n",
              "          document.querySelector('#df-92b65fa7-7c6f-458c-bb84-9e8ce4e3beec button.colab-df-convert');\n",
              "        buttonEl.style.display =\n",
              "          google.colab.kernel.accessAllowed ? 'block' : 'none';\n",
              "\n",
              "        async function convertToInteractive(key) {\n",
              "          const element = document.querySelector('#df-92b65fa7-7c6f-458c-bb84-9e8ce4e3beec');\n",
              "          const dataTable =\n",
              "            await google.colab.kernel.invokeFunction('convertToInteractive',\n",
              "                                                     [key], {});\n",
              "          if (!dataTable) return;\n",
              "\n",
              "          const docLinkHtml = 'Like what you see? Visit the ' +\n",
              "            '<a target=\"_blank\" href=https://colab.research.google.com/notebooks/data_table.ipynb>data table notebook</a>'\n",
              "            + ' to learn more about interactive tables.';\n",
              "          element.innerHTML = '';\n",
              "          dataTable['output_type'] = 'display_data';\n",
              "          await google.colab.output.renderOutput(dataTable, element);\n",
              "          const docLink = document.createElement('div');\n",
              "          docLink.innerHTML = docLinkHtml;\n",
              "          element.appendChild(docLink);\n",
              "        }\n",
              "      </script>\n",
              "    </div>\n",
              "  </div>\n",
              "  "
            ]
          },
          "metadata": {},
          "execution_count": 7
        }
      ]
    },
    {
      "cell_type": "code",
      "source": [
        "siec1 = BayesianNetwork([('A', 'C'), ('B', 'C')])\n",
        "siec2 = BayesianNetwork([('A', 'B'), ('B', 'C')])\n",
        "\n",
        "bic = BicScore(data)\n",
        "bdeu = BDeuScore(data)\n",
        "k2 = K2Score(data)\n",
        "\n",
        "print(bdeu.score(siec1))\n",
        "print(k2.score(siec1))\n",
        "print(bic.score(siec1))"
      ],
      "metadata": {
        "colab": {
          "base_uri": "https://localhost:8080/"
        },
        "id": "zaZ4W5QtXj8h",
        "outputId": "87b08926-0c55-4213-9fe5-1a8a3dec12de"
      },
      "execution_count": 8,
      "outputs": [
        {
          "output_type": "stream",
          "name": "stdout",
          "text": [
            "-27848.17996966214\n",
            "-28728.365269242924\n",
            "-28709.35255467813\n"
          ]
        }
      ]
    },
    {
      "cell_type": "code",
      "source": [
        "print(bdeu.score(siec2))\n",
        "print(k2.score(siec2))\n",
        "print(bic.score(siec2))"
      ],
      "metadata": {
        "colab": {
          "base_uri": "https://localhost:8080/"
        },
        "id": "OpECDFrfY16y",
        "outputId": "9061e5e0-9e75-42dc-ab5a-3185da483a5c"
      },
      "execution_count": 9,
      "outputs": [
        {
          "output_type": "stream",
          "name": "stdout",
          "text": [
            "-41744.756312417536\n",
            "-41902.89473596857\n",
            "-41889.64993790094\n"
          ]
        }
      ]
    },
    {
      "cell_type": "markdown",
      "source": [
        "Druga sieć jest lepsza, bo ma wyższe wartości współczynników."
      ],
      "metadata": {
        "id": "9ueeiL2LZznC"
      }
    },
    {
      "cell_type": "markdown",
      "source": [
        "Zadanie 6: </p>\n",
        "Liczba możliwych topologii sieci dla  cech wyraża się następującyc wzorem rekurencyjnym"
      ],
      "metadata": {
        "id": "qVLhOn1nanHt"
      }
    },
    {
      "cell_type": "code",
      "source": [
        "import numpy as np\n",
        "data = pd.DataFrame(np.random.randint(-2, 2, size=(10000, 2)), columns=list('AB'))\n",
        "data['C'] = data['A'] + data['B']"
      ],
      "metadata": {
        "id": "9yxorRQYaltL"
      },
      "execution_count": 11,
      "outputs": []
    },
    {
      "cell_type": "markdown",
      "source": [
        "Proszę się nie zaskoczyć tym co poniżej, bo mam identycznie jak Ola Lazar - robiłyśmy to z Pana pomocą ostatnio. Próbowałam podmienić to perm, a nadanie nazwy od \"function __main__.b\" nie zmienia wywołania."
      ],
      "metadata": {
        "id": "B7xfzZpdfdVm"
      }
    },
    {
      "cell_type": "code",
      "source": [
        "import math\n",
        "def b(n):\n",
        "  if n==0:\n",
        "    return 1\n",
        "  else:\n",
        "    s=0\n",
        "\n",
        "  for k in range(1,n+1):\n",
        "      s += (-1)**(k+1)* math.perm(n,k)*2**(k*(n-k))*b*(n-k)\n",
        "  return s"
      ],
      "metadata": {
        "id": "YWoiJE2KbEPW"
      },
      "execution_count": 14,
      "outputs": []
    },
    {
      "cell_type": "code",
      "source": [
        "print(b)"
      ],
      "metadata": {
        "colab": {
          "base_uri": "https://localhost:8080/"
        },
        "id": "gJlLm2Y4b5y4",
        "outputId": "b53839ce-d07b-4037-afe3-c7df02f161a4"
      },
      "execution_count": 18,
      "outputs": [
        {
          "output_type": "stream",
          "name": "stdout",
          "text": [
            "<function b at 0x7fdc92d120d0>\n"
          ]
        }
      ]
    },
    {
      "cell_type": "code",
      "source": [
        "b"
      ],
      "metadata": {
        "colab": {
          "base_uri": "https://localhost:8080/"
        },
        "id": "vIqoKd3mfaOe",
        "outputId": "a15595a7-fd25-4097-b1c2-2194eb28666a"
      },
      "execution_count": 19,
      "outputs": [
        {
          "output_type": "execute_result",
          "data": {
            "text/plain": [
              "<function __main__.b(n)>"
            ]
          },
          "metadata": {},
          "execution_count": 19
        }
      ]
    }
  ]
}